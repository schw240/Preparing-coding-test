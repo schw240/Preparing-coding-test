{
 "cells": [
  {
   "cell_type": "markdown",
   "metadata": {},
   "source": [
    "### 예제로 이해하는 객체지향 문법(상속)\n",
    "\n",
    "#### 6.1 Class Inheritance(상속)\n",
    "\n",
    "- 추상화(abstraction): 여러 클래스에 중복되는 속성 , 메서드를 하나의 기본 클래스로 작성하는 작업\n",
    "\n",
    "- 상속(inheritance): 기본 클래스의 공통 기능을 물려받고 , 다른 부분만 추가 또는 변경하는 것\n",
    "    - 이 때 기본 클래스는 부모 클래스(또는 상위 클래스) , Parent , Super , Base class 라고 부름\n",
    "    - 기본 클래스 기능을 물려받는 클래스는 자식 클래스(또는 하위 클래스), Child , Sub , Derived class 라고 부름\n",
    "    \n",
    "- 코드 재사용이 가능 , 공통 기능의 경우 기본 클래스 코드만 수정하면 된다는 장점\n",
    "\n",
    "- 부모 클래스가 둘 이상인 경우는 다중 상속이라고 부름"
   ]
  },
  {
   "cell_type": "markdown",
   "metadata": {},
   "source": [
    "- 부모 클래스를 자식 클래스에 인자로 넣으면 상속됨\n",
    "    - 다음 코드는 __init__(self, name, color) 메서드가 상속되고\n",
    "    - self.name과 self.color 도 __init__실행시 생성됨"
   ]
  },
  {
   "cell_type": "code",
   "execution_count": 1,
   "metadata": {},
   "outputs": [],
   "source": [
    "class Figure:\n",
    "    def __init__(self , name , color):\n",
    "        self.__name = name\n",
    "        self.__color = color"
   ]
  },
  {
   "cell_type": "code",
   "execution_count": 2,
   "metadata": {},
   "outputs": [],
   "source": [
    "class Quadrangle(Figure):\n",
    "    def set_area(self, width , height):\n",
    "        self.__width = width\n",
    "        self.__height = height\n",
    "        \n",
    "    def get_info(self):\n",
    "        print(self.__name , self.__color , self.__width * self.__height)"
   ]
  },
  {
   "cell_type": "code",
   "execution_count": 3,
   "metadata": {},
   "outputs": [],
   "source": [
    "square = Quadrangle('dave' , 'blue')\n",
    "square.set_area(5,5)"
   ]
  },
  {
   "cell_type": "code",
   "execution_count": 7,
   "metadata": {},
   "outputs": [
    {
     "data": {
      "text/plain": [
       "True"
      ]
     },
     "execution_count": 7,
     "metadata": {},
     "output_type": "execute_result"
    }
   ],
   "source": [
    "#상속 관계인 클래스 확인하기\n",
    "#내장함수 issubclass(자식클래스 , 부모클래스)\n",
    "issubclass(Quadrangle , Figure)"
   ]
  },
  {
   "cell_type": "markdown",
   "metadata": {},
   "source": [
    "## 6.2. Method Override (메서드 재정의)\n",
    "- 부모 클래스의 method를 자식 클래스에서 재정의(override)\n",
    "- 자식 클래스에서 부모 클래스 method를 재정의함\n",
    "- 자식 클래스 객체에서는 재정의된 메소드가 호출됨\n",
    "- 자식 클래스에서 부모 클래스의 메서드와 이름만 동일하면 메서드 재정의가 가능함\n",
    "- C++/Java언어 등에서는 메서드와 인자도 동일해야 함"
   ]
  },
  {
   "cell_type": "code",
   "execution_count": 12,
   "metadata": {},
   "outputs": [],
   "source": [
    "#클래스 선언\n",
    "class Person:\n",
    "    def __init__(self , name):\n",
    "        self.name = name\n",
    "    \n",
    "    def work(self):\n",
    "        print(self.name + \" works hard\")\n",
    "        \n",
    "class Student(Person):\n",
    "    def work(self):\n",
    "        print(self.name + \" studies hard\")"
   ]
  },
  {
   "cell_type": "code",
   "execution_count": 13,
   "metadata": {},
   "outputs": [
    {
     "name": "stdout",
     "output_type": "stream",
     "text": [
      "Dave studies hard\n"
     ]
    }
   ],
   "source": [
    "#객체 생성\n",
    "student1 = Student(\"Dave\")\n",
    "#자식 클래스(Student)의 재정의된 work(self)호출\n",
    "student1.work()"
   ]
  },
  {
   "cell_type": "markdown",
   "metadata": {},
   "source": [
    "## 초간단 연습7\n",
    "* Car class 만들기\n",
    "- Car class\n",
    "- attribute: 생성자에서 self.name 설정\n",
    "- method: info(self) - 이름 출력\n",
    "\n",
    "- Eletronic Car class\n",
    "- attribute: 생성자에서 self.name 설정\n",
    "- method overide: info(self) - 이름과 사용 연료(Eletronic) 출력\n",
    "\n",
    "- Gasoline Car class\n",
    "- attribute: 생성자에서 self.name 설정\n",
    "- method overide: info(self) - 이름과 사용 연료(Gasoline) 출력"
   ]
  },
  {
   "cell_type": "code",
   "execution_count": 16,
   "metadata": {},
   "outputs": [],
   "source": [
    "class Car:\n",
    "    def __init__(self , name):\n",
    "        self.name = name\n",
    "\n",
    "    def get_info(self):\n",
    "        print(self.name)\n",
    "        \n",
    "class ElecCar(Car):\n",
    "    def get_info(self):\n",
    "        print(self.name, 'Fuel: Electronic')\n",
    "        \n",
    "class GasoCar(Car):\n",
    "    def get_info(self):\n",
    "        print(self.name , 'Fuel: Gasoline')"
   ]
  },
  {
   "cell_type": "code",
   "execution_count": 17,
   "metadata": {},
   "outputs": [],
   "source": [
    "elec = ElecCar('dave')\n",
    "gaso = GasoCar('david')"
   ]
  },
  {
   "cell_type": "code",
   "execution_count": 18,
   "metadata": {},
   "outputs": [
    {
     "name": "stdout",
     "output_type": "stream",
     "text": [
      "dave Fuel: Electronic\n",
      "david Fuel: Gasoline\n",
      "None None\n"
     ]
    }
   ],
   "source": [
    "print(elec.get_info(), gaso.get_info())"
   ]
  },
  {
   "cell_type": "markdown",
   "metadata": {},
   "source": [
    "### 6.3 자식 클래스에서 부모 클래스 메서드 호출(super 와 self)\n",
    "\n",
    "#### super\n",
    "- 자식 클래스에서 부모 클래스의 method를 호출할 때 사용\n",
    "    - super().부모 클래스의 method명"
   ]
  },
  {
   "cell_type": "code",
   "execution_count": 19,
   "metadata": {},
   "outputs": [],
   "source": [
    "#클래스 선언\n",
    "class Person:\n",
    "    def work(self):\n",
    "        print('work hard')\n",
    "        \n",
    "class Student(Person):\n",
    "    def work(self):\n",
    "        print('Study hard')\n",
    "        \n",
    "    def parttime(self):\n",
    "        super().work()"
   ]
  },
  {
   "cell_type": "code",
   "execution_count": 20,
   "metadata": {},
   "outputs": [
    {
     "name": "stdout",
     "output_type": "stream",
     "text": [
      "Study hard\n",
      "work hard\n"
     ]
    }
   ],
   "source": [
    "student1 = Student()\n",
    "student1.work()\n",
    "student1.parttime()"
   ]
  },
  {
   "cell_type": "markdown",
   "metadata": {},
   "source": [
    "### self\n",
    "- self는 현재의 객체를 나타냄\n",
    "    - self.method명 또는 attribute명으로 호출함\n",
    "- C++ / C# / Java언어에서는 this라는 키워드를 사용함"
   ]
  },
  {
   "cell_type": "code",
   "execution_count": 22,
   "metadata": {},
   "outputs": [],
   "source": [
    "#클래스 선언\n",
    "class Person:\n",
    "    def work(self):\n",
    "        print('work hard')\n",
    "        \n",
    "class Student(Person):\n",
    "    def work(self):\n",
    "        print('Study hard')\n",
    "        \n",
    "    def parttime(self):\n",
    "        super().work()\n",
    "        \n",
    "    def general(self):\n",
    "        self.work()"
   ]
  },
  {
   "cell_type": "code",
   "execution_count": 25,
   "metadata": {},
   "outputs": [
    {
     "name": "stdout",
     "output_type": "stream",
     "text": [
      "Study hard\n",
      "work hard\n",
      "Study hard\n"
     ]
    }
   ],
   "source": [
    "student1 = Student()\n",
    "student1.work()\n",
    "student1.parttime()\n",
    "student1.general()"
   ]
  },
  {
   "cell_type": "markdown",
   "metadata": {},
   "source": [
    "### 6.4 자식 클래스에서 부모 클래스 메서드 확장하는 방법(심화)\n",
    "- 부모 클래스 메서드 기능에 추가적인 기능이 필요한 경우\n",
    "    - 부모 클래스 메서드는 그대로 이용하면서 자식 클래스 메서드에서 필요한 기능만 정의하는 기법\n",
    "    - 해당 메서드에서 상속받은 부모 클래스명.메서드명 을 호출하고 , 필요한 기능 추가 정의"
   ]
  },
  {
   "cell_type": "code",
   "execution_count": 26,
   "metadata": {},
   "outputs": [],
   "source": [
    "#클래스 선언\n",
    "class Person:\n",
    "    def work(self):\n",
    "        print('work hard')\n",
    "        \n",
    "class Student(Person):\n",
    "    def work(self):\n",
    "        Person.work(self) #부모 클래스 메서드 호출\n",
    "        print('Study hard')"
   ]
  },
  {
   "cell_type": "code",
   "execution_count": 27,
   "metadata": {},
   "outputs": [
    {
     "name": "stdout",
     "output_type": "stream",
     "text": [
      "work hard\n",
      "Study hard\n"
     ]
    }
   ],
   "source": [
    "student1 = Student()\n",
    "student1.work()"
   ]
  },
  {
   "cell_type": "markdown",
   "metadata": {},
   "source": [
    "### 6.5 추상 클래스 사용하기\n",
    "- 메서드 목록만 가진 클래스 , 상속받는 클래스에서 해당 메서드 구현해야함\n",
    "- ex) 게임에서 모든 캐릭터는 공격하기 ,이동하기 공통기능을 가지고 있음\n",
    "    - 공통 기능은 추상클래스로 만들고 , 각 세부 기능은 해당 메서드에서 구현하는것"
   ]
  },
  {
   "cell_type": "markdown",
   "metadata": {},
   "source": [
    "### 사용법\n",
    "- abc 라이브러리를 가져옴(from abc import *)\n",
    "- 클래스 선언시 () 괄호 안에 metaclass = ABCMeta 를 지정\n",
    "- 해당 클래스에서 메서드 선언시 상단에 @abstractmethod 를 붙여줘야함"
   ]
  },
  {
   "cell_type": "code",
   "execution_count": 28,
   "metadata": {},
   "outputs": [],
   "source": [
    "# 추상 클래스 선언하기\n",
    "from abc import *\n",
    "\n",
    "class Character(metaclass = ABCMeta):\n",
    "    @abstractmethod\n",
    "    def attack(self):\n",
    "        pass\n",
    "    \n",
    "    @abstractmethod\n",
    "    def move(self):\n",
    "        pass"
   ]
  },
  {
   "cell_type": "code",
   "execution_count": 29,
   "metadata": {},
   "outputs": [],
   "source": [
    "#추상 클래스 상속하기\n",
    "class Elf(Character):\n",
    "    def attack(self):\n",
    "        print(\"practice the black art\")\n",
    "        \n",
    "    def move(self):\n",
    "        print(\"fly\")\n",
    "        \n",
    "        \n",
    "class Human(Character):\n",
    "    def attack(self):\n",
    "        print(\"plunge a knife\")\n",
    "        \n",
    "    def move(self):\n",
    "        print(\"run\")"
   ]
  },
  {
   "cell_type": "code",
   "execution_count": 30,
   "metadata": {},
   "outputs": [
    {
     "name": "stdout",
     "output_type": "stream",
     "text": [
      "practice the black art\n",
      "fly\n",
      "plunge a knife\n",
      "run\n"
     ]
    }
   ],
   "source": [
    "#객체 실행하기\n",
    "\n",
    "elf1 = Elf()\n",
    "human1 = Human()\n",
    "\n",
    "elf1.attack()\n",
    "elf1.move()\n",
    "human1.attack()\n",
    "human1.move()"
   ]
  },
  {
   "cell_type": "code",
   "execution_count": null,
   "metadata": {},
   "outputs": [],
   "source": []
  }
 ],
 "metadata": {
  "kernelspec": {
   "display_name": "Python 3",
   "language": "python",
   "name": "python3"
  },
  "language_info": {
   "codemirror_mode": {
    "name": "ipython",
    "version": 3
   },
   "file_extension": ".py",
   "mimetype": "text/x-python",
   "name": "python",
   "nbconvert_exporter": "python",
   "pygments_lexer": "ipython3",
   "version": "3.7.3"
  }
 },
 "nbformat": 4,
 "nbformat_minor": 2
}
