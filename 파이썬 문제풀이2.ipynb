{
 "cells": [
  {
   "cell_type": "markdown",
   "metadata": {},
   "source": [
    "# 1920번 수찾기\n",
    "\n",
    "- N개의 정수 A[N]이 주어져있을 때 , 이 안에 X 라는 정수가 존재하는지 알아내는 프로그램 작성하기\n",
    "\n",
    "### 입력\n",
    "\n",
    "- 첫째 줄에 자연수 N 입력받기\n",
    "- 다음 줄에는 A[N]개의 정수 받기\n",
    "- 그 다음줄에는 M 입력받기\n",
    "- 그 다음줄에는 M개의 수들이 주어지는데 이 수들이 A안에 존재하는지 알아내기\n",
    "\n",
    "### 출력\n",
    "\n",
    "- M개의 줄에 답을 출력한다. 존재하면 1을 존재하지 않으면 0을 출력"
   ]
  },
  {
   "cell_type": "code",
   "execution_count": 5,
   "metadata": {
    "scrolled": true
   },
   "outputs": [
    {
     "name": "stdout",
     "output_type": "stream",
     "text": [
      "5\n",
      "4 1 5 2 3\n",
      "5\n",
      "1 3 7 9 5\n",
      "1\n",
      "1\n",
      "0\n",
      "0\n",
      "1\n"
     ]
    }
   ],
   "source": [
    "N , A = int(input()) , {i: 1 for i in map(int , input().split())}\n",
    "\n",
    "M = input()\n",
    "for i in list(map(int, input().split())):\n",
    "    #print(A.get(i,0))\n",
    "    print(1 if i in A else 0)"
   ]
  },
  {
   "cell_type": "markdown",
   "metadata": {},
   "source": [
    "# 16165 걸그룹 마스터 준석이\n",
    "\n",
    "## 문제: 친구를 위해 걸그룹 개인과 팀의 이름을 검색하여 외우게 하는 퀴즈프로그램 만들기\n",
    "\n",
    "## 입력\n",
    "- 첫번째 줄에 총 입력 받을 걸그룹의 수 N과 맞혀야 할 문제의 수 M을 입력 받는다.\n",
    "- 두번째 줄부터는 각 걸그룹마다 팀의 이름 , 걸그룹의 인원 수 ,멤버의 이름을 한 줄씩 차례대로 입력 받는다.\n",
    "- 그 다음 줄부터는 M개의 퀴즈를 입력받는다.\n",
    "\n",
    "## 출력\n",
    "- 첫번째 줄부터 차례대로 퀴즈에 대한 답을 출력\n",
    "- 퀴즈의 종류가 0 일경우 해당 팀에 속한 멤버의 이름을 사전순으로 한명씩 출력\n",
    "- 퀴즈의 종류가 1일 경우 해당 멤버가 속한 팀의 이름을 출력"
   ]
  },
  {
   "cell_type": "code",
   "execution_count": null,
   "metadata": {},
   "outputs": [],
   "source": [
    "N , M = map(int , input().split())\n",
    "team_mem , mem_team = {} , {}\n",
    "\n",
    "for i in range(N):\n",
    "    team_name , mem_num = input() , int(input())\n",
    "    team_mem[team_name] = []\n",
    "    for j in range(mem_num):\n",
    "        name = input()\n",
    "        team_mem[team_name].append(name)\n",
    "        mem_team[name] = team_name\n",
    "        \n",
    "        \n",
    "for i in range(M):\n",
    "    name , q = input() , int(input())\n",
    "    if q:\n",
    "        print(mem_team[name])\n",
    "    else:\n",
    "        for i in sorted(team_mem[name]):\n",
    "            print(mem)"
   ]
  }
 ],
 "metadata": {
  "kernelspec": {
   "display_name": "Python 3",
   "language": "python",
   "name": "python3"
  },
  "language_info": {
   "codemirror_mode": {
    "name": "ipython",
    "version": 3
   },
   "file_extension": ".py",
   "mimetype": "text/x-python",
   "name": "python",
   "nbconvert_exporter": "python",
   "pygments_lexer": "ipython3",
   "version": "3.7.3"
  }
 },
 "nbformat": 4,
 "nbformat_minor": 2
}
