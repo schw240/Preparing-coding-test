{
 "cells": [
  {
   "cell_type": "markdown",
   "metadata": {},
   "source": [
    "### 개발자로서 중요한 능력\n",
    "1. 추상화\n",
    "2. 절차적 사고\n",
    "3. 구현 능력\n",
    "\n",
    "문제 -> 모델링(추상화) -> 절차적 사고 -> 구현"
   ]
  },
  {
   "cell_type": "markdown",
   "metadata": {},
   "source": [
    "## 대표 유형\n",
    "\n",
    "- 파싱 , 해싱 , 정렬 , 시뮬레이선                -> 구현\n",
    "- 탐색(BFS/DFS) , 완전탐색(백트래킹)             -> 탐식\n",
    "- 자료구조(스택 , 힙 , 큐등)                     -> 구조\n",
    "- Greedy, DP , 이분탐색...                       -> 알고리즘"
   ]
  },
  {
   "cell_type": "markdown",
   "metadata": {},
   "source": [
    "# 코딩테스트에서 환경체크는 필수"
   ]
  },
  {
   "cell_type": "markdown",
   "metadata": {},
   "source": [
    "### C++ , 파이썬 , JAVA\n",
    "- 코딩테스트의 3대장 언어\n",
    "\n",
    "#### 코딩테스트 2가지 유형\n",
    "- 함수를 짜면 되는 방식\n",
    "\n",
    "- 출력을 하면 되는 방식"
   ]
  },
  {
   "cell_type": "markdown",
   "metadata": {},
   "source": [
    "### 틀린 경우\n",
    "\n",
    "- 컴파일 에러(CE) : 문법 오류\n",
    "- 시간초과(TLE) : 최적화 필요\n",
    "- 메모리 초과(MLE) : 최적화 필요\n",
    "- 런타임 에러(RE) : 과정 오류\n",
    "    - 0으로 나누는 경우\n",
    "    - Container에서 index오류(접근)\n",
    "    - 무한 루프(TLE 이기도 함)\n",
    "- 틀렸습니다.(WE) : 수많은 이유"
   ]
  },
  {
   "cell_type": "markdown",
   "metadata": {},
   "source": [
    "## 주의해야할 것 + 확인해야 할 것\n",
    "\n",
    "- 제한 및 대소 관계 (이상 , 이하 , 초과, 미만 , min , max)\n",
    "- 예외 처리 (단 없는 경우는 -)를 출력한다~)\n",
    "- 입력과 출력 (공백 , 양식 , 순서 , 정렬 유무)\n",
    "- 시간 제한과 메모리 제한\n",
    "\n",
    "- 알고리즘이 맞는가?\n",
    "- 내가 생각한 로직대로 구현했나?\n",
    "- 불필요한 반복문이 있는가?\n",
    "- 중복은 처리했는가?"
   ]
  },
  {
   "cell_type": "code",
   "execution_count": null,
   "metadata": {},
   "outputs": [],
   "source": []
  }
 ],
 "metadata": {
  "kernelspec": {
   "display_name": "Python 3",
   "language": "python",
   "name": "python3"
  },
  "language_info": {
   "codemirror_mode": {
    "name": "ipython",
    "version": 3
   },
   "file_extension": ".py",
   "mimetype": "text/x-python",
   "name": "python",
   "nbconvert_exporter": "python",
   "pygments_lexer": "ipython3",
   "version": "3.7.3"
  }
 },
 "nbformat": 4,
 "nbformat_minor": 2
}
