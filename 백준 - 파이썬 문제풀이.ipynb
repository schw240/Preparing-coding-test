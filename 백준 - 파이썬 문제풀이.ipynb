{
 "cells": [
  {
   "cell_type": "markdown",
   "metadata": {},
   "source": [
    "# 연습문제 목록\n",
    "\n",
    "- 15969 행복                          list min , max 사용하기\n",
    "- 10539 수빈이와 수열                 누적합 사용하기\n",
    "- 17269 이름궁합테스트                string 문자열 처리\n",
    "- 17389 보너스 점수                   tuple\n",
    "- 16165 걸그룹 마스터 준석이          dict\n",
    "- 1920 수찾기                         set\n",
    "- 17224 APC                           좀 긴 지문 연습\n",
    "- 16675 두개의 손                     tuple , comprehension , index(find)"
   ]
  },
  {
   "cell_type": "markdown",
   "metadata": {},
   "source": [
    "# 15969 행복\n",
    "\n",
    "- N 명의 학생들의 점수가 주어졌을때 , 가장 높은 점수와 가장 낮은 점수의 차이를 구하는 프로그램을 작성하시오"
   ]
  },
  {
   "cell_type": "code",
   "execution_count": 1,
   "metadata": {},
   "outputs": [
    {
     "name": "stdout",
     "output_type": "stream",
     "text": [
      "3\n",
      "22 99 27\n",
      "77\n"
     ]
    }
   ],
   "source": [
    "N , lst = input() , list(map(int , input().split()))\n",
    "#입력으로 N과 리스트 형태로 자료를 받아\n",
    "print(max(lst) - min(lst))\n",
    "#리스트 안의 가장 높은 점수와 가장 낮은 점수의 차 출력"
   ]
  },
  {
   "cell_type": "code",
   "execution_count": null,
   "metadata": {},
   "outputs": [],
   "source": []
  },
  {
   "cell_type": "code",
   "execution_count": null,
   "metadata": {},
   "outputs": [],
   "source": []
  },
  {
   "cell_type": "markdown",
   "metadata": {},
   "source": [
    "# 10539 수빈이와 수열\n",
    "\n",
    "- 수열 B가 주어질 때 수빈이의 규칙에 따른 수열 A는 뭘까?"
   ]
  },
  {
   "cell_type": "code",
   "execution_count": 8,
   "metadata": {},
   "outputs": [
    {
     "name": "stdout",
     "output_type": "stream",
     "text": [
      "4\n",
      "3 2 3 5\n",
      "3 1 5 11 "
     ]
    }
   ],
   "source": [
    "N , B = int(input()) , list(map(int , input().split()))\n",
    "\n",
    "A = [B[0]]\n",
    "\n",
    "for i in range(1,N):\n",
    "    A.append(B[i]*(i+1) - sum(A))\n",
    "    \n",
    "for i in A:\n",
    "    print(i , end = ' ')"
   ]
  },
  {
   "cell_type": "code",
   "execution_count": null,
   "metadata": {},
   "outputs": [],
   "source": []
  },
  {
   "cell_type": "code",
   "execution_count": null,
   "metadata": {},
   "outputs": [],
   "source": []
  },
  {
   "cell_type": "markdown",
   "metadata": {},
   "source": [
    "# 17269 이름궁합 테스트\n",
    "\n",
    "## 문제\n",
    "- 두 사람의 이름을 대문자로 표현한 뒤 한 글자씩 번갈아가며 적는다.\n",
    "- 남는 이름은 맨 뒤에 적고 알파벳에 대응하는 숫자로 바꾸고 각 숫자와 그 숫자의 오른쪽 숫자와 더한 것을 밑에 적는다. 더한 숫자가 10이 넘을 경우에 일의자리 수만 남긴다. \n",
    "\n",
    "\n",
    "### 입력\n",
    "- 첫번째 줄에 이름의 길이 N과 M을 받는다\n",
    "- 다음줄에 이름 A와 B를 입력 받는다. 이름은 반드시 알파벳 대문자만 주어진다.\n",
    "\n",
    "### 출력\n",
    "- A와 B의 이름궁합이 좋을 확률을 %로 출력한다. 단 십의 자리가 0인 경우에 일의 자리만 출력한다."
   ]
  },
  {
   "cell_type": "code",
   "execution_count": 15,
   "metadata": {},
   "outputs": [
    {
     "name": "stdout",
     "output_type": "stream",
     "text": [
      "8 14\n",
      "LEEMINSU MIYASAKISAKURA\n",
      "25%\n"
     ]
    }
   ],
   "source": [
    "N , M = map(int , input().split())\n",
    "A , B = input().split()\n",
    "\n",
    "alp = [3,2,1,2,4,3,1,3,1,1,3,1,3,2,1,2,2,2,1,2,1,1,1,2,2,1]\n",
    "\n",
    "AB = ''\n",
    "min_len = min(N,M)\n",
    "\n",
    "for i in range(min_len):\n",
    "    AB += A[i] + B[i]\n",
    "    \n",
    "AB += A[min_len:] + B[min_len:]\n",
    "\n",
    "lst = [alp[ord(i) - ord('A')] for i in AB]\n",
    "#문자를 하나씩 반복하며 AB문자열 안에 있는 첫번째 알파벳 부터 확인하며\n",
    "#아스키 값을 뺴줘서 인덱스를 얻어옴\n",
    "\n",
    "#반복 횟수를 아는것이 중요함\n",
    "for i in range(N + M-2):\n",
    "    for j in range(N+M-1-i):\n",
    "        lst[j] += lst[j+1]\n",
    "        \n",
    "print(\"{}%\".format(lst[0] % 10*10 + lst[1]%10))"
   ]
  },
  {
   "cell_type": "code",
   "execution_count": null,
   "metadata": {},
   "outputs": [],
   "source": []
  },
  {
   "cell_type": "code",
   "execution_count": null,
   "metadata": {},
   "outputs": [],
   "source": []
  },
  {
   "cell_type": "markdown",
   "metadata": {},
   "source": [
    "# 17389 보너스 점수\n",
    "\n",
    "- OX표에 N개의 문제들이 있을 때 , 1번문제 2번문제 , ... N번 문제 순으로 체점된다.\n",
    "- 문제는 뒤로 갈수록 어려워지기 때문에 i번 문제의 기본 점수는 i점이다.\n",
    "    - 문제의 기본 점수는 i점이며 틀리면 얻지 못한다.\n",
    "- 기본 점수와 별개로 '보너스 점수' 라는 값이 존재한다. 처음에는 0점이다.\n",
    "    - 문제를 맞히면 그 때의 '보너스 점수'를 획득하고 , '보너스 점수'의 값이 1점 증가한다.\n",
    "    - 문제를 틀리면 '보너스 점수'를 얻지 못하고 0으로 초기화된다.\n",
    "\n",
    "\n",
    "- 입력: 첫번째 줄에 OX표의 길이인 자연수 N이 주어진다.\n",
    "- 두번째 줄에 OX표를 의미하는 문자열 S가 주어진다. (길이 N)\n",
    "\n",
    "- 출력: 첫 번째 줄에 입력으로 들어온 OX 표의 점수를 출력한다."
   ]
  },
  {
   "cell_type": "code",
   "execution_count": 18,
   "metadata": {},
   "outputs": [
    {
     "name": "stdout",
     "output_type": "stream",
     "text": [
      "8\n",
      "XOOOXOOX\n",
      "26\n"
     ]
    }
   ],
   "source": [
    "N , S = input() , input()\n",
    "\n",
    "score , bonus = 0,0\n",
    "\n",
    "for idx , OX in enumerate(S): #iterable한 값을 반환해주는 함수\n",
    "    if OX == 'O':\n",
    "        score += idx + 1 + bonus\n",
    "        bonus += 1\n",
    "    else:\n",
    "        bonus = 0\n",
    "\n",
    "print(score)"
   ]
  },
  {
   "cell_type": "code",
   "execution_count": 19,
   "metadata": {},
   "outputs": [
    {
     "name": "stdout",
     "output_type": "stream",
     "text": [
      "8\n",
      "XOOOXOOX\n",
      "26\n"
     ]
    }
   ],
   "source": [
    "N , S = input() , input()\n",
    "\n",
    "score , bonus = 0,0\n",
    "\n",
    "for idx , OX in enumerate(S): #iterable한 값을 반환해주는 함수\n",
    "    if OX == 'O':\n",
    "        score ,bonus = score + idx+1+bonus , bonus+1 # 간결화\n",
    "    else:\n",
    "        bonus = 0\n",
    "\n",
    "print(score)"
   ]
  },
  {
   "cell_type": "code",
   "execution_count": null,
   "metadata": {},
   "outputs": [],
   "source": []
  }
 ],
 "metadata": {
  "kernelspec": {
   "display_name": "Python 3",
   "language": "python",
   "name": "python3"
  },
  "language_info": {
   "codemirror_mode": {
    "name": "ipython",
    "version": 3
   },
   "file_extension": ".py",
   "mimetype": "text/x-python",
   "name": "python",
   "nbconvert_exporter": "python",
   "pygments_lexer": "ipython3",
   "version": "3.7.3"
  }
 },
 "nbformat": 4,
 "nbformat_minor": 2
}
