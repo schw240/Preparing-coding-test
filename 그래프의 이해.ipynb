{
 "cells": [
  {
   "cell_type": "markdown",
   "metadata": {},
   "source": [
    "### 1. 그래프 (Graph) 란?\n",
    "* 그래프는 실제 세계의 현상이나 사물을 정점(Vertex) 또는 노드(Node) 와 간선(Edge)로 표현하기 위해 사용\n",
    "#### 예제 집에서 회사로 가는 경로를 그래프로 표현한 예\n",
    "<img src=\"https://www.fun-coding.org/00_Images/graph.png\" width=400>"
   ]
  },
  {
   "cell_type": "markdown",
   "metadata": {},
   "source": [
    "### 2. 그래프 (Graph) 관련 용어\n",
    "- 노드 (Node): 위치를 말함, 정점(Vertex)라고도 함\n",
    "- 간선 (Edge): 위치 간의 관계를 표시한 선으로 노드를 연결한 선이라고 보면 됨 (link 또는 branch 라고도 함)\n",
    "- 인접 정점 (Adjacent Vertex) : 간선으로 직접 연결된 정점(또는 노드)\n",
    "\n",
    "- 참고 용어\n",
    "  - 정점의 차수 (Degree): 무방향 그래프에서 하나의 정점에 인접한 정점의 수\n",
    "  - 진입 차수 (In-Degree): 방향 그래프에서 외부에서 오는 간선의 수\n",
    "  - 진출 차수 (Out-Degree): 방향 그래프에서 외부로 향하는 간선의 수\n",
    "  - 경로 길이 (Path Length): 경로를 구성하기 위해 사용된 간선의 수\n",
    "  - 단순 경로 (Simple Path): 처음 정점과 끝 정점을 제외하고 중복된 정점이 없는 경로\n",
    "  - 사이클 (Cycle): 단순 경로의 시작 정점과 종료 정점이 동일한 경우\n",
    "  \n",
    "> 단순 경로 (A - B - C)\n",
    "<img src=\"https://www.fun-coding.org/00_Images/simplepath.png\" width=200>"
   ]
  },
  {
   "cell_type": "markdown",
   "metadata": {},
   "source": [
    "### 3. 그래프 (Graph) 종류\n",
    "#### 무방향 그래프 (Undirected Graph)\n",
    "- 방향이 없는 그래프\n",
    "- 간선을 통해, 노드는 양방향으로 갈 수 있음\n",
    "- 보통 노드 A, B가 연결되어 있을 경우, (A, B) 또는 (B, A) 로 표기\n",
    "<img src=\"https://www.fun-coding.org/00_Images/undirectedgraph.png\" width=300>"
   ]
  },
  {
   "cell_type": "code",
   "execution_count": null,
   "metadata": {},
   "outputs": [],
   "source": []
  }
 ],
 "metadata": {
  "kernelspec": {
   "display_name": "Python 3",
   "language": "python",
   "name": "python3"
  },
  "language_info": {
   "codemirror_mode": {
    "name": "ipython",
    "version": 3
   },
   "file_extension": ".py",
   "mimetype": "text/x-python",
   "name": "python",
   "nbconvert_exporter": "python",
   "pygments_lexer": "ipython3",
   "version": "3.7.3"
  }
 },
 "nbformat": 4,
 "nbformat_minor": 2
}
