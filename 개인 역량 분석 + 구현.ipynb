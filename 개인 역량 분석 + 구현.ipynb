{
 "cells": [
  {
   "cell_type": "markdown",
   "metadata": {},
   "source": [
    "## 개인 역량 파악하기"
   ]
  },
  {
   "cell_type": "markdown",
   "metadata": {},
   "source": [
    "### 문제 모델링이 어려운 경우\n",
    "- 수치 및 조건 정리하기\n",
    "- 전체적인 흐름 그리기\n",
    "- 입츌력 예제 이해하기"
   ]
  },
  {
   "cell_type": "markdown",
   "metadata": {},
   "source": [
    "### 문제를 풀다가 막히는 경우\n",
    "\n",
    "- 필수 알고리즘은 암기\n",
    "- 설명과 함께 풀어보기 / 유형은 많이 풀기\n",
    "- 모델링을 바탕으로 기능을 가볍게 적어보기"
   ]
  },
  {
   "cell_type": "markdown",
   "metadata": {},
   "source": [
    "### 구현이 막히는 경우\n",
    "\n",
    "- 디버깅 연습은 필수\n",
    "- 쉽고 간단한 문제를 많이 풀자\n",
    "- 본인만의 스타일대로 풀자"
   ]
  },
  {
   "cell_type": "code",
   "execution_count": null,
   "metadata": {},
   "outputs": [],
   "source": []
  },
  {
   "cell_type": "markdown",
   "metadata": {},
   "source": [
    "## 구현하기\n",
    "\n",
    "어떤 내용이 구체적인 사실로 나타나게 함 -> 문제 조건을 코드로 작성하여 돌아가게 함\n",
    "\n",
    "모든 프로그래밍 문제 = 구현문제"
   ]
  },
  {
   "cell_type": "markdown",
   "metadata": {},
   "source": [
    "## 파이썬 내장함수를 사용하여 Simulation 구현하기\n",
    "\n",
    "- 내장함수: 외부 모듈이 필요 없이 사용가능한 함수 ex) import"
   ]
  },
  {
   "cell_type": "markdown",
   "metadata": {},
   "source": [
    "## 코딩테스트에서 시뮬레이션이란?\n",
    "\n",
    "- 문제 상황과 일대일 매칭\n",
    "- 보다 효율적으로 짜는 것이 목표\n",
    "- 최적화와 알고리즘 등 복잡한 코드까지"
   ]
  },
  {
   "cell_type": "code",
   "execution_count": null,
   "metadata": {},
   "outputs": [],
   "source": []
  }
 ],
 "metadata": {
  "kernelspec": {
   "display_name": "Python 3",
   "language": "python",
   "name": "python3"
  },
  "language_info": {
   "codemirror_mode": {
    "name": "ipython",
    "version": 3
   },
   "file_extension": ".py",
   "mimetype": "text/x-python",
   "name": "python",
   "nbconvert_exporter": "python",
   "pygments_lexer": "ipython3",
   "version": "3.7.3"
  }
 },
 "nbformat": 4,
 "nbformat_minor": 2
}
